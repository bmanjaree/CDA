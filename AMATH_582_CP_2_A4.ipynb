{
 "cells": [
  {
   "cell_type": "markdown",
   "id": "bbee4949",
   "metadata": {},
   "source": [
    "\n",
    "## AMATH Computational Data Analysis\n",
    "\n",
    "### CP-2\n",
    "\n",
    "#### Manjaree Binjolkar"
   ]
  },
  {
   "cell_type": "code",
   "execution_count": 1,
   "id": "a70c9cc2",
   "metadata": {},
   "outputs": [],
   "source": [
    "import numpy as np\n",
    "import scipy.fft\n",
    "import scipy.io as sio\n",
    "import copy\n",
    "import scipy\n",
    "from mpl_toolkits import mplot3d\n",
    "#%matplotlib inline\n",
    "import matplotlib.pyplot as plt"
   ]
  },
  {
   "cell_type": "code",
   "execution_count": 2,
   "id": "d25e91eb",
   "metadata": {},
   "outputs": [],
   "source": [
    "#Load data\n",
    "data = sio.loadmat('CP2_SoundClip.mat')\n",
    "Fs = 44100 #sample rate of the sound clip\n",
    "S = data['y']# transposes in order to have consistent dimensions\n",
    "#S#not transposing in python"
   ]
  },
  {
   "cell_type": "code",
   "execution_count": 3,
   "id": "2b919874",
   "metadata": {},
   "outputs": [],
   "source": [
    "#break the spectogram up into four time windows, otherwise it\n",
    "#will be too big for MATLAB/autograder to run.\n",
    "w = len(S)/4\n",
    "#print(w)\n",
    "#type(w)"
   ]
  },
  {
   "cell_type": "code",
   "execution_count": 4,
   "id": "eca56796",
   "metadata": {},
   "outputs": [],
   "source": [
    "#this will isolate the correct window\n",
    "S1 = np.squeeze(S[(1-1)*int(w):1*int(w)])\n",
    "S2 = np.squeeze(S[(2-1)*int(w):2*int(w)])\n",
    "S3 = np.squeeze(S[(3-1)*int(w):3*int(w)])\n",
    "S4 = np.squeeze(S[(4-1)*int(w):4*int(w)])"
   ]
  },
  {
   "cell_type": "code",
   "execution_count": 5,
   "id": "fb5291f3",
   "metadata": {},
   "outputs": [],
   "source": [
    "L = len(S1)/Fs# length of each window in seconds\n",
    "#print(L)\n",
    "n = len(S1)  # number of elements in each window\n",
    "#print(n)"
   ]
  },
  {
   "cell_type": "code",
   "execution_count": 6,
   "id": "54971b26",
   "metadata": {},
   "outputs": [],
   "source": [
    "# t in sec. relative to the start of the window\n",
    "t = np.arange(0, L, 1/Fs)\n",
    "#print(t)\n",
    "#t.shape"
   ]
  },
  {
   "cell_type": "code",
   "execution_count": 7,
   "id": "e7f805f6",
   "metadata": {},
   "outputs": [],
   "source": [
    "tau = np.arange(0, L, 0.1) # discretization for the Gabor transform\n",
    "#print(tau)\n",
    "#tau.shape"
   ]
  },
  {
   "cell_type": "code",
   "execution_count": 8,
   "id": "2d93facb",
   "metadata": {},
   "outputs": [],
   "source": [
    "arr1 = np.arange(0,n/2)\n",
    "#print(arr1.shape)\n",
    "arr2 = np.arange(-n/2,0)\n",
    "#print(arr2.shape)\n",
    "\n",
    "k = (2*np.pi/(2*L))*np.concatenate((arr1, arr2), axis=0)\n",
    "#print(k)\n",
    "#print(k.shape)\n",
    "\n",
    "ks = scipy.fft.fftshift(k)\n",
    "#print(ks)\n",
    "#ks.shape"
   ]
  },
  {
   "cell_type": "code",
   "execution_count": 9,
   "id": "f5091eca",
   "metadata": {},
   "outputs": [],
   "source": [
    "#Gabor Transform Parameters\n",
    "a = 400 #this will give you the correct width, so exp(-a(...))\n",
    "ranges = np.arange(0,1800) #?\n",
    "#print(ranges)\n",
    "#print(ranges.shape)\n",
    "#use this when finding the max and index of the transformed Gabor filtered signal\n",
    "# i.e., max(TransformedSignal_GaborFiltered(range))\n",
    "Sgtspec = np.zeros([len(ks), len(tau)])"
   ]
  },
  {
   "cell_type": "code",
   "execution_count": 10,
   "id": "5b6844c8",
   "metadata": {},
   "outputs": [],
   "source": [
    "# Repeat this part for S1, S2, S3, and S4.\n",
    "# For this part we are going to make a spectrogram, but only for the freqs.\n",
    "# of interest.  So first we'll do a Gabor transform, then we'll filter\n",
    "# around our peak freq. in the regime of interest, and then we'll look at\n",
    "# the spectrogram of that function.\n",
    "\n",
    "# Gabor transform each S, just like we did in the lecture\n",
    "# Week4_Spectrograms.m lines 141 to 146.\n",
    "# You'll have to add code between line 144 and Sgt_spec at line 145.\n",
    "\n",
    "#S1\n",
    "Sgtspec4 = Sgtspec\n",
    "for i in range (len(tau)):\n",
    "    g_1 = np.exp(-a*(t-tau[i])**2)\n",
    "    Sg = g_1 * S4\n",
    "    Sgt = scipy.fft.fftn(Sg)\n",
    "    peak_index = np.argmax(np.abs(Sgt[:1800]))\n",
    "    filter_center = k[peak_index]\n",
    "    g_2 = np.exp(-(1/L)*(np.abs(k)-np.abs(filter_center))**2)\n",
    "    Sgt_filtered = g_2 * Sgt\n",
    "    Sgtspec4[:,i] = scipy.fft.fftshift(np.abs(Sgt_filtered))\n",
    "\n",
    "#print(Sgtspec.shape)\n",
    "\n",
    "#TAU, KS = np.meshgrid(tau, ks)\n",
    "\n",
    "#fig = plt.figure()\n",
    "#plt.pcolormesh(TAU, KS, np.log(1+Sgtspec4), cmap = 'hot', shading = 'auto')\n",
    "#plt.ylim(0,800)\n",
    "#plt.colorbar()"
   ]
  },
  {
   "cell_type": "code",
   "execution_count": 11,
   "id": "dba26e20",
   "metadata": {},
   "outputs": [],
   "source": [
    "# After line 144 find the index of your peak frequency (in absolute value)\n",
    "# within the range of interest (this range is very forgiving so you don't\n",
    "# have to match the autograder exactly, just use your judgement based on\n",
    "# the figure in the assignment statement).  Then make a filter centered\n",
    "# about the peak frequency.  Filter the Gabor transformed function.\n",
    "# this is the function you will use in line 145 from the lecture to find\n",
    "# your Sgt_spec.\n",
    "\n",
    "# Save Sgt_spec as variable A1 after your for loop.  Repeat for S2, S3, and\n",
    "# S4 and save those Sgt_spec as A2, A3, and A4.  You don't have to rewrite\n",
    "# the code, just copy and paste and use the respective S's, or write a for\n",
    "# loop that iterates through S1 to S4.\n",
    "\n",
    "#A1 = Sgtspec1  # Shape:  484560x110 double\n",
    "#A2 = Sgtspec2  # Shape:  484560x110 double\n",
    "#A3 = Sgtspec3  # Shape:  484560x110 double\n",
    "A4 = Sgtspec4  # Shape:  484560x110 double"
   ]
  }
 ],
 "metadata": {
  "kernelspec": {
   "display_name": "Python 3 (ipykernel)",
   "language": "python",
   "name": "python3"
  },
  "language_info": {
   "codemirror_mode": {
    "name": "ipython",
    "version": 3
   },
   "file_extension": ".py",
   "mimetype": "text/x-python",
   "name": "python",
   "nbconvert_exporter": "python",
   "pygments_lexer": "ipython3",
   "version": "3.9.7"
  }
 },
 "nbformat": 4,
 "nbformat_minor": 5
}
