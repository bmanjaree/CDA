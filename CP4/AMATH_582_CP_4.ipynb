{
 "cells": [
  {
   "cell_type": "markdown",
   "id": "ed43a97a",
   "metadata": {},
   "source": [
    "## AMATH Computational Data Analysis\n",
    "### CP-4\n",
    "#### Manjaree Binjolkar"
   ]
  },
  {
   "cell_type": "code",
   "execution_count": 1,
   "id": "b193bbce",
   "metadata": {},
   "outputs": [],
   "source": [
    "import numpy as np\n",
    "import scipy.fft\n",
    "import scipy.io as sio\n",
    "import copy\n",
    "import scipy\n",
    "from mpl_toolkits import mplot3d\n",
    "#%matplotlib inline\n",
    "import matplotlib.pyplot as plt\n",
    "import pywt"
   ]
  },
  {
   "cell_type": "code",
   "execution_count": 2,
   "id": "7ce57dbc",
   "metadata": {},
   "outputs": [],
   "source": [
    "def dc_wavelet(dcfile):\n",
    "    # Input: dog/cat matrix\n",
    "    # Output: edge detection\n",
    "    \n",
    "    m, n = dcfile.shape # 4096 x 80\n",
    "    pxl = int(np.sqrt(m)) # cus images are square\n",
    "    nw = m // 4 # wavelet resolution cus downsampling\n",
    "    dcData = np.zeros((nw, n))\n",
    "    \n",
    "    for k in range(n):\n",
    "        X = dcfile[:, k].reshape(pxl, pxl).astype('float')\n",
    "        cA, (cH, cV, cD) = pywt.dwt2(X, 'haar') # only want horizontal and vertical\n",
    "        cod_cH1 = np.abs(cH).astype('float') # horizontal rescaled\n",
    "        cod_cV1 = np.abs(cV).astype('float') # vertical rescaled\n",
    "        cod_edge = (cod_cH1 + cod_cV1) / 2 # edge detection\n",
    "        cod_edge = cod_edge.reshape(nw, 1)\n",
    "        dcData[:, k] = cod_edge.flatten()\n",
    "    \n",
    "    return dcData"
   ]
  },
  {
   "cell_type": "code",
   "execution_count": 3,
   "id": "09d120a3",
   "metadata": {},
   "outputs": [],
   "source": [
    "#Load training data\n",
    "training_images = sio.loadmat('CP4_training_images.mat')\n",
    "training_labels = sio.loadmat('CP4_training_labels.mat')\n",
    "\n",
    "training_images = training_images['training_images']\n",
    "training_labels = training_labels['training_labels']"
   ]
  },
  {
   "cell_type": "code",
   "execution_count": 4,
   "id": "32b5d55b",
   "metadata": {},
   "outputs": [],
   "source": [
    "#Reshape training_images.m to 784x30000 in order to be consistent with the\n",
    "#codes from the lecture.\n",
    "training_images = training_images.reshape(784,30000, order ='f')"
   ]
  },
  {
   "cell_type": "code",
   "execution_count": 5,
   "id": "f9af3cc0",
   "metadata": {},
   "outputs": [],
   "source": [
    "#Projecting onto principal components\n",
    "#Conduct the wavelet transform on the entire training dataset.  To make it\n",
    "#reusable you can write it as a function very similar (almost exactly the\n",
    "#same) as dc_wavelet.m from the lecture.  For MATLAB you will need to\n",
    "#include the function at the end of the code.\n",
    "\n",
    "#Perform wavelet transform\n",
    "#wavelet = dc_wavelet(training_images)\n",
    "wavelet_temp = sio.loadmat('Training_DWT.mat')\n",
    "wavelet = wavelet_temp['Training_DWT']\n",
    "#print(wavelet.shape)\n",
    "#wavelet[0:10, 0:10]"
   ]
  },
  {
   "cell_type": "code",
   "execution_count": 6,
   "id": "3c9ab2d0",
   "metadata": {},
   "outputs": [],
   "source": [
    "#Checking if the Training_DWT and dc_wavelet() are the same\n",
    "#wavelet_dc = dc_wavelet(training_images)\n",
    "#print(wavelet_dc.shape)\n",
    "#wavelet_dc[0:10, 0:10]"
   ]
  },
  {
   "cell_type": "code",
   "execution_count": 7,
   "id": "7744df77",
   "metadata": {},
   "outputs": [],
   "source": [
    "#Find the SVD of the transformed data just like in Week7_LDA.m\n",
    "u_t, s_t, v_t = np.linalg.svd(wavelet, full_matrices=False)\n",
    "\n",
    "#Plot singular values (include in report, but not in gradescope submission)\n",
    "#fig = plt.figure()\n",
    "#plt.semilogy(s_t[0:20], \".\")\n",
    "#plt.xlabel(\"Index\")\n",
    "#plt.ylabel(\"Singular values\")\n",
    "#plt.show()"
   ]
  },
  {
   "cell_type": "code",
   "execution_count": 8,
   "id": "3c1da7dd",
   "metadata": {},
   "outputs": [],
   "source": [
    "#type(u_t[0:15].T.shape)"
   ]
  },
  {
   "cell_type": "code",
   "execution_count": 9,
   "id": "98ee7765",
   "metadata": {},
   "outputs": [],
   "source": [
    "#How many features (i.e., singular values) should we use?  Save this as\n",
    "#A1.  Hint: it's less than what we used in the lecture\n",
    "\n",
    "A1 = 15#; % 1x1. The number of PCA modes we are going to project onto.\n",
    "\n",
    "\n",
    "#Project onto the principal components just like we did in Week7_LDA.m\n",
    "#Restrict the matrix U to that of the feature space (like we did in \n",
    "#dc_trainer.m).  Save this as A2\n",
    "A2 = u_t[:,0:15]#; % 196x15???\n",
    "#A2.shape"
   ]
  },
  {
   "cell_type": "code",
   "execution_count": 10,
   "id": "5e8f333b",
   "metadata": {},
   "outputs": [],
   "source": [
    "#training_images[:,1].shape"
   ]
  },
  {
   "cell_type": "code",
   "execution_count": 11,
   "id": "b588a148",
   "metadata": {},
   "outputs": [],
   "source": [
    "#wavelet.shape"
   ]
  },
  {
   "cell_type": "code",
   "execution_count": 12,
   "id": "0bed1063",
   "metadata": {},
   "outputs": [],
   "source": [
    "#Pick two numbers to train/test on.  Use 0 and 1 for the autograder.\n",
    "\n",
    "#This is going to be quite different from what we did in the lectures.  In\n",
    "#the lecture we had two datasets with dogs and cats.  Here everything is\n",
    "#jumbled up so we need to separate them out.  Separate all the training \n",
    "#images of 0's and 1's using the training labels.  Hint: a for loop and\n",
    "#some if statements should be sufficient.\n",
    "training_0 = []\n",
    "training_1 = []\n",
    "y = A2.T@wavelet#projected data?????\n",
    "#y = np.diag(s_t)@v_t\n",
    "#print(y)"
   ]
  },
  {
   "cell_type": "code",
   "execution_count": 13,
   "id": "fb8a565d",
   "metadata": {},
   "outputs": [],
   "source": [
    "for i in range (len(training_labels)):\n",
    "    if (training_labels[i] == 0):\n",
    "        training_0.append(y[:,i])\n",
    "        \n",
    "    elif (training_labels[i] == 1):\n",
    "        training_1.append(y[:,i])"
   ]
  },
  {
   "cell_type": "code",
   "execution_count": 14,
   "id": "644584b9",
   "metadata": {},
   "outputs": [],
   "source": [
    "training_0 = np.asarray(training_0).T\n",
    "training_1 = np.asarray(training_1).T"
   ]
  },
  {
   "cell_type": "code",
   "execution_count": 15,
   "id": "aabd4f71",
   "metadata": {},
   "outputs": [],
   "source": [
    "nd = training_0.shape[1] #what will nd and nc be here?\n",
    "nc = training_1.shape[1]\n",
    "#dogs = 0 refer to the lectures\n",
    "#cats = 1\n",
    "md = np.mean(training_0, axis=1)\n",
    "mc = np.mean(training_1, axis=1)\n",
    "\n",
    "Sw = np.zeros((training_0.shape[0], training_0.shape[0]))\n",
    "for k in range(nd):\n",
    "    Sw += np.outer(training_0[:, k] - md, training_0[:, k] - md)\n",
    "for k in range(nc):\n",
    "    Sw += np.outer(training_1[:, k] - mc, training_1[:, k] - mc)\n",
    "\n",
    "Sb = np.outer(md - mc, md - mc)"
   ]
  },
  {
   "cell_type": "code",
   "execution_count": 16,
   "id": "0bc8b53a",
   "metadata": {},
   "outputs": [],
   "source": [
    "#Calculate the within class and between class variances just like in \n",
    "#Week7_LDA.m.  Save these as A3 and A4.\n",
    "\n",
    "A3 = Sw#; % 15x15\n",
    "A4 = Sb#; % 15x15\n",
    "#print(A4.shape)"
   ]
  },
  {
   "cell_type": "code",
   "execution_count": 17,
   "id": "7c75c82f",
   "metadata": {},
   "outputs": [],
   "source": [
    "#Find the best projection line just like in Week7_LDA.m.  Save the\n",
    "#normalized projection line w as A5\n",
    "# Perform linear discriminant analysis\n",
    "\n",
    "D, V2 = scipy.linalg.eig(Sb, Sw)\n",
    "#print(D)\n",
    "\n",
    "# Get the eigenvector corresponding to the largest eigenvalue\n",
    "ind = np.argmax(np.abs(D))\n",
    "w = V2[:,ind]\n",
    "\n",
    "# Normalize the eigenvector\n",
    "w = w / np.linalg.norm(w)\n",
    "w = -w\n",
    "A5_temp = w.reshape(15,1)#; % 15x1\n",
    "A5 = A5_temp.copy()\n",
    "#print(A5.shape)\n",
    "#A5"
   ]
  },
  {
   "cell_type": "code",
   "execution_count": 18,
   "id": "5943de63",
   "metadata": {},
   "outputs": [],
   "source": [
    "#training_0"
   ]
  },
  {
   "cell_type": "code",
   "execution_count": 19,
   "id": "9a6e7d09",
   "metadata": {},
   "outputs": [],
   "source": [
    "#plt.hist(vtraining_0)\n",
    "#plt.hist(vtraining_1)"
   ]
  },
  {
   "cell_type": "code",
   "execution_count": 20,
   "id": "7ad78f7d",
   "metadata": {},
   "outputs": [],
   "source": [
    "#Project the training data onto w just like in Week7_LDA.m\n",
    "#w = -w\n",
    "vtraining_0 = w.T @ training_0\n",
    "vtraining_1 = w.T @ training_1\n",
    "\n",
    "#Find the threshold value just like in Week7_LDA.m.  Save it as A6\n",
    "# Sort the dog and cat projections in ascending order\n",
    "sort0 = np.sort(vtraining_0)\n",
    "sort1 = np.sort(vtraining_1)\n",
    "\n",
    "# Initialize indices to find the threshold\n",
    "t1 = len(sort0)-1   # start on the right\n",
    "t2 = 0  # start on the left\n",
    "\n",
    "# Move the indices towards each other until they pass\n",
    "while sort0[t1] > sort1[t2]:\n",
    "    t1 -= 1\n",
    "    t2 += 1\n",
    "    #print(t1,t2,sort0[t1],sort1[t2] )\n",
    "\n",
    "# Calculate the threshold as the midpoint between the last dog value and the first cat value\n",
    "threshold = (sort0[t1] + sort1[t2]) / 2\n",
    "#print(sort0[t1])\n",
    "#print(sort1[t2])\n",
    "A6 = threshold.copy()#; % 1x1\n",
    "#A6"
   ]
  },
  {
   "cell_type": "code",
   "execution_count": 21,
   "id": "3bf1ac77",
   "metadata": {},
   "outputs": [],
   "source": [
    "#A6"
   ]
  },
  {
   "cell_type": "code",
   "execution_count": 22,
   "id": "8d6674f6",
   "metadata": {},
   "outputs": [],
   "source": [
    "#Classify test data\n",
    "\n",
    "#Load test data\n",
    "test_images = sio.loadmat('CP4_test_images.mat')\n",
    "test_labels = sio.loadmat('CP4_test_labels.mat')\n",
    "\n",
    "test_images = test_images['test_images']\n",
    "test_labels = test_labels['test_labels']"
   ]
  },
  {
   "cell_type": "code",
   "execution_count": 23,
   "id": "6b9c85b7",
   "metadata": {},
   "outputs": [],
   "source": [
    "#Reshape test_images.m to 784x5000 in order to be consistent with the\n",
    "#codes from the lecture.\n",
    "test_images = test_images.reshape(784,5000)\n",
    "\n",
    "test_images_filtered = []\n",
    "for i in range (5000):\n",
    "    if (test_labels[i] == 0) or (test_labels[i] == 1):\n",
    "        test_images_filtered.append(test_images[:,i])"
   ]
  },
  {
   "cell_type": "code",
   "execution_count": 24,
   "id": "4a6f1898",
   "metadata": {},
   "outputs": [],
   "source": [
    "test_images_filtered = np.asarray(test_images_filtered).T"
   ]
  },
  {
   "cell_type": "code",
   "execution_count": 25,
   "id": "19f1bc19",
   "metadata": {},
   "outputs": [
    {
     "data": {
      "text/plain": [
       "(784, 1062)"
      ]
     },
     "execution_count": 25,
     "metadata": {},
     "output_type": "execute_result"
    }
   ],
   "source": [
    "test_images_filtered.shape"
   ]
  },
  {
   "cell_type": "code",
   "execution_count": 26,
   "id": "f2ddbf6c",
   "metadata": {},
   "outputs": [],
   "source": [
    "#From the test set pick out the 0's and 1's without revealing the labels.\n",
    "#Save only the images of 0's and 1's as a new dataset and save the\n",
    "#associated labels for those exact 0's and 1's as a new vector.\n",
    "TestSet = test_images_filtered\n",
    "TestNum = TestSet.shape[1]\n",
    "\n",
    "#Wavelet transform:  you can just use the same function you did for the\n",
    "#training portion.\n",
    "Test_wave = dc_wavelet(TestSet) # dc_wavelet is a defined function\n",
    "\n",
    "#Find the SVD of the transformed data just like in Week7_LDA.m\n",
    "#U_test, S_test, V_test = np.linalg.svd(Test_wave, full_matrices=False)\n",
    "\n",
    "#Project the test data onto the principal components just like in\n",
    "#Week7_Learning.m\n",
    "TestMat = A2.T@Test_wave # PCA projection\n",
    "#TestMat = TestMat[:,0:15]\n",
    "#print(TestMat.shape)\n",
    "#w = w.reshape(15,1)\n",
    "#print(w.shape)\n",
    "pval = np.dot(w,TestMat) # Project onto w vector\n"
   ]
  },
  {
   "cell_type": "code",
   "execution_count": 27,
   "id": "c2bf01af",
   "metadata": {},
   "outputs": [],
   "source": [
    "#Checking performance just like we did in Week7_Learning.m.  If you did\n",
    "#everything like I did (which may or may not be optimal), you should\n",
    "#have a success rate of 0.9972.\n",
    "# Cat = 1, dog = 0 for ResVec\n",
    "\n",
    "ResVec_bool = pval > threshold\n",
    "#print(ResVec_bool.shape)\n",
    "\n",
    "ResVec = 1*ResVec_bool\n",
    "#print(ResVec.shape)"
   ]
  },
  {
   "cell_type": "code",
   "execution_count": 28,
   "id": "2cda85e4",
   "metadata": {},
   "outputs": [],
   "source": [
    "#ResVec"
   ]
  },
  {
   "cell_type": "code",
   "execution_count": 29,
   "id": "5ca21eb8",
   "metadata": {},
   "outputs": [],
   "source": [
    "#Save the results in a vector (just like in Week7_Learning.m) and save it\n",
    "#as A7.\n",
    "\n",
    "A7 = ResVec.reshape(1,1062) #; % 1x1062\n",
    "\n",
    "#print(A7.shape)\n",
    "#print(A7)"
   ]
  },
  {
   "cell_type": "code",
   "execution_count": 30,
   "id": "98b51186",
   "metadata": {},
   "outputs": [],
   "source": [
    "hiddenlabels = []\n",
    "\n",
    "for i in range (len(test_labels)):\n",
    "    if (test_labels[i] == 0) or (test_labels[i] == 1):\n",
    "        hiddenlabels.append(test_labels[i])\n",
    "        \n",
    "hiddenlabels = np.asarray(hiddenlabels)    \n",
    "#print(hiddenlabels.shape)"
   ]
  },
  {
   "cell_type": "code",
   "execution_count": 31,
   "id": "e2ff49e7",
   "metadata": {},
   "outputs": [
    {
     "data": {
      "text/plain": [
       "0.4708097928436912"
      ]
     },
     "execution_count": 31,
     "metadata": {},
     "output_type": "execute_result"
    }
   ],
   "source": [
    "# 0s are correct and 1s are incorrect\n",
    "err = np.abs(ResVec.reshape(1062,1) - hiddenlabels) #hiddenlabels=test_labels? what length to take test_labels\n",
    "#do we need to slice test_label?\n",
    "errNum = np.sum(err)\n",
    "#print(errNum)\n",
    "#print(TestNum)\n",
    "sucRate = 1 - errNum/TestNum\n",
    "sucRate"
   ]
  },
  {
   "cell_type": "code",
   "execution_count": 32,
   "id": "14f1bb5d",
   "metadata": {},
   "outputs": [],
   "source": [
    "#For report only, not for the autograder:  Now write an algorithm to\n",
    "#classify all 10 digits.  One way to do this is by using the \"one vs all\n",
    "#\" method; i.e., loop through the digits and conduct LDA on each digit\n",
    "#vs. all the other digits."
   ]
  },
  {
   "cell_type": "code",
   "execution_count": 33,
   "id": "9335cef8",
   "metadata": {},
   "outputs": [],
   "source": [
    "#dog = sio.loadmat('dogData.mat')\n",
    "#dog = dog['dog']\n",
    "#dog"
   ]
  },
  {
   "cell_type": "code",
   "execution_count": 34,
   "id": "6ebb5f37",
   "metadata": {},
   "outputs": [],
   "source": [
    "\n",
    "#fig = plt.figure()\n",
    "#fig.suptitle('First Four Principal Components', fontsize=14, fontweight='bold')\n",
    "#for k in range(1, 5):\n",
    "#    ax = fig.add_subplot(2, 2, k)\n",
    "#    ut1 = np.reshape(u_t[:, k-1], (14, 14))\n",
    "#    ut2 = np.interp(ut1, (ut1.min(), ut1.max()), (0, 1))\n",
    "#    ax.imshow(ut2, cmap='gray')\n",
    "#plt.show()\n"
   ]
  },
  {
   "cell_type": "code",
   "execution_count": 35,
   "id": "5a377048",
   "metadata": {},
   "outputs": [],
   "source": [
    "#fig = plt.figure()\n",
    "#fig.suptitle('Training Numbers Grid', fontsize=14, fontweight='bold')\n",
    "#for k in range(1, 10):\n",
    "#    ax = fig.add_subplot(3, 3, k)\n",
    "#    training_images1 = np.reshape(training_images[:, k-1], (28, 28)).T\n",
    "#    #needs transpose??\n",
    "#    ax.imshow(training_images1)\n",
    "#plt.show()\n"
   ]
  },
  {
   "cell_type": "code",
   "execution_count": 36,
   "id": "70cc46dd",
   "metadata": {},
   "outputs": [],
   "source": [
    "#fig = plt.figure()\n",
    "#fig.suptitle('Test Numbers Grid', fontsize=14, fontweight='bold')\n",
    "#for k in range(1, 10):\n",
    "#    ax = fig.add_subplot(3, 3, k)\n",
    "#    test_images1 = np.reshape(test_images[:, k-1], (28, 28))\n",
    "#    ax.imshow(test_images1)\n",
    "#plt.show()"
   ]
  }
 ],
 "metadata": {
  "kernelspec": {
   "display_name": "Python 3 (ipykernel)",
   "language": "python",
   "name": "python3"
  },
  "language_info": {
   "codemirror_mode": {
    "name": "ipython",
    "version": 3
   },
   "file_extension": ".py",
   "mimetype": "text/x-python",
   "name": "python",
   "nbconvert_exporter": "python",
   "pygments_lexer": "ipython3",
   "version": "3.9.7"
  }
 },
 "nbformat": 4,
 "nbformat_minor": 5
}
