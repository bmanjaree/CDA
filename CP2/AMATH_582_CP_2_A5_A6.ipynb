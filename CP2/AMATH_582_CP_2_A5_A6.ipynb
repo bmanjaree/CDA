{
 "cells": [
  {
   "cell_type": "markdown",
   "id": "53c8429b",
   "metadata": {},
   "source": [
    "## AMATH Computational Data Analysis\n",
    "### CP-2\n",
    "#### Manjaree Binjolkar"
   ]
  },
  {
   "cell_type": "code",
   "execution_count": 1,
   "id": "e9bfc0bb",
   "metadata": {},
   "outputs": [],
   "source": [
    "import numpy as np\n",
    "import scipy.fft\n",
    "import scipy.io as sio\n",
    "import copy\n",
    "import scipy\n",
    "from mpl_toolkits import mplot3d\n",
    "#%matplotlib inline\n",
    "import matplotlib.pyplot as plt"
   ]
  },
  {
   "cell_type": "code",
   "execution_count": 2,
   "id": "ffc7e7e8",
   "metadata": {},
   "outputs": [],
   "source": [
    "#Load data\n",
    "data = sio.loadmat('CP2_SoundClip.mat')\n",
    "Fs = 44100 #sample rate of the sound clip\n",
    "#S = data['y']# transposes in order to have consistent dimensions\n",
    "#S#not transposing in python"
   ]
  },
  {
   "cell_type": "code",
   "execution_count": 3,
   "id": "87178e9a",
   "metadata": {},
   "outputs": [],
   "source": [
    "#Isolate the bassline\n",
    "S = data['y']  # transposes in order to have consistent dimensions\n",
    "L = len(S)/Fs # total length in sec. \n",
    "n = len(S) # total number of elements in S\n",
    "#t = [0:1/Fs:L - 1/Fs];  time discretization\n",
    "#k = (1/L)*[0:n/2-1 -n/2:-1]; % freq. discretization\n",
    "arr1 = np.arange(0,n/2)\n",
    "#print(arr1.shape)\n",
    "arr2 = np.arange(-n/2,0)\n",
    "#print(arr2.shape)\n",
    "\n",
    "k = (2*np.pi/(2*L))*np.concatenate((arr1, arr2), axis=0)\n",
    "#print(k)\n",
    "#print(k.shape)"
   ]
  },
  {
   "cell_type": "code",
   "execution_count": 4,
   "id": "1e135d9d",
   "metadata": {},
   "outputs": [],
   "source": [
    "#Take the Fourier transform of S, and in freq. space isolate all freqs. \n",
    "#(in absolute value) that you determine should be part of the baseline \n",
    "#according to spectrogram (or also just by listening); that is, all points\n",
    "#in the transformed function not within the frequency range you determined\n",
    "#should be set to zero (kind of like a Shannon filter, but simpler than\n",
    "#what we did in lecture).\n",
    "#You may have to do this part a few times with different thresholds to get\n",
    "#it right.\n",
    "#S_baseline = scipy.fft.fftn(S)\n",
    "a = 100\n",
    "\n",
    "# Sgt = np.zeros(len(S))\n",
    "# print(Sgt.shape)\n",
    "\n",
    "Sgt = scipy.fft.fftn(S)\n",
    "for i in range (len(S)):\n",
    "    if np.abs(Sgt[i]) > 3*a:\n",
    "        Sgt[i] = 0\n",
    "    \n",
    "Sgt_baseline = scipy.fft.fftn(Sgt)"
   ]
  },
  {
   "cell_type": "code",
   "execution_count": 5,
   "id": "f204cf41",
   "metadata": {},
   "outputs": [],
   "source": [
    "#After thresholding the transformed function, take the inverse transform\n",
    "#of the thresholded function and save it as A5.\n",
    "#Sgt_baseline.shape\n",
    "A5 = Sgt_baseline.copy()    #Shape:  1938240x1 double\n",
    "\n",
    "\n",
    "#Play sound (not for autograder)\n",
    "\n",
    "\n",
    "#Plot the amplitude S over time (for the report, not for the autograder)\n",
    "\n"
   ]
  },
  {
   "cell_type": "code",
   "execution_count": 6,
   "id": "f5d9d575",
   "metadata": {},
   "outputs": [],
   "source": [
    "#Isolate the guitar\n",
    "#200-800 (OR)\n",
    "#Same exact process as the baseline above, but you'll have to be more\n",
    "#careful about the frequency range.\n",
    "S1 = data['y'] #reinitialize the S from the previous part above.\n",
    "\n",
    "Sgt_guitar = scipy.fft.fftn(S1)\n",
    "for i in range (len(S1)):\n",
    "    if np.abs(Sgt_guitar[i]) < 2*a or np.abs(Sgt_guitar[i]) > 8*a:\n",
    "        Sgt_guitar[i] = 0\n",
    "    \n",
    "Sgt__guitar_baseline = scipy.fft.fftn(Sgt_guitar)\n",
    "#Sgt__guitar_baseline.shape\n",
    "A6 =  Sgt__guitar_baseline.copy()    #Shape:  1938240x1 double\n",
    "\n",
    "#Play sound (not for autograder)\n",
    "\n",
    "\n",
    "#Plot the amplitude S over time (for the report, not for the autograder)"
   ]
  },
  {
   "cell_type": "code",
   "execution_count": null,
   "id": "37d4402b",
   "metadata": {},
   "outputs": [],
   "source": []
  }
 ],
 "metadata": {
  "kernelspec": {
   "display_name": "Python 3 (ipykernel)",
   "language": "python",
   "name": "python3"
  },
  "language_info": {
   "codemirror_mode": {
    "name": "ipython",
    "version": 3
   },
   "file_extension": ".py",
   "mimetype": "text/x-python",
   "name": "python",
   "nbconvert_exporter": "python",
   "pygments_lexer": "ipython3",
   "version": "3.9.7"
  }
 },
 "nbformat": 4,
 "nbformat_minor": 5
}
