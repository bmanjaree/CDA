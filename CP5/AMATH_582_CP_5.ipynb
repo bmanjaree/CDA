{
 "cells": [
  {
   "cell_type": "markdown",
   "id": "1f2008dd",
   "metadata": {},
   "source": [
    "## AMATH Computational Data Analysis\n",
    "### CP-5\n",
    "#### Manjaree Binjolkar"
   ]
  },
  {
   "cell_type": "code",
   "execution_count": 6,
   "id": "fd23d900",
   "metadata": {},
   "outputs": [],
   "source": [
    "import numpy as np\n",
    "import scipy.io as sio"
   ]
  },
  {
   "cell_type": "code",
   "execution_count": 9,
   "id": "7ec4a591",
   "metadata": {},
   "outputs": [],
   "source": [
    "# Load data from .mat file\n",
    "data = sio.loadmat('CP5_data.mat')['data']\n",
    "\n",
    "# Declare the X1 and X2 variables from the variable data\n",
    "X1 = data[:, :-1]\n",
    "X2 = data[:, 1:]\n",
    "\n",
    "# Take the SVD of X1\n",
    "U, Sigma, V = np.linalg.svd(X1, full_matrices=False)\n",
    "# Compute the S tilde matrix\n",
    "S = U.T@X2@V.T@np.diag(1 / Sigma)\n",
    "# Save S tilde as the variable A1\n",
    "A1 = S\n",
    "\n"
   ]
  },
  {
   "cell_type": "code",
   "execution_count": 10,
   "id": "45c99d8c",
   "metadata": {},
   "outputs": [
    {
     "data": {
      "text/plain": [
       "(675, 675)"
      ]
     },
     "execution_count": 10,
     "metadata": {},
     "output_type": "execute_result"
    }
   ],
   "source": [
    "A1.shape"
   ]
  },
  {
   "cell_type": "code",
   "execution_count": 13,
   "id": "59482c23",
   "metadata": {},
   "outputs": [
    {
     "ename": "NameError",
     "evalue": "name 'm' is not defined",
     "output_type": "error",
     "traceback": [
      "\u001b[0;31m---------------------------------------------------------------------------\u001b[0m",
      "\u001b[0;31mNameError\u001b[0m                                 Traceback (most recent call last)",
      "\u001b[0;32m/var/folders/53/h0tv1tdj205_xg1pvfhdgbj00000gn/T/ipykernel_23754/943665727.py\u001b[0m in \u001b[0;36m<module>\u001b[0;34m\u001b[0m\n\u001b[1;32m     24\u001b[0m \u001b[0mu_modes\u001b[0m \u001b[0;34m=\u001b[0m \u001b[0mnp\u001b[0m\u001b[0;34m.\u001b[0m\u001b[0mzeros\u001b[0m\u001b[0;34m(\u001b[0m\u001b[0;34m(\u001b[0m\u001b[0mlen\u001b[0m\u001b[0;34m(\u001b[0m\u001b[0my0\u001b[0m\u001b[0;34m)\u001b[0m\u001b[0;34m,\u001b[0m \u001b[0mlen\u001b[0m\u001b[0;34m(\u001b[0m\u001b[0mt\u001b[0m\u001b[0;34m)\u001b[0m\u001b[0;34m)\u001b[0m\u001b[0;34m)\u001b[0m\u001b[0;34m\u001b[0m\u001b[0;34m\u001b[0m\u001b[0m\n\u001b[1;32m     25\u001b[0m \u001b[0;32mfor\u001b[0m \u001b[0miter\u001b[0m \u001b[0;32min\u001b[0m \u001b[0mrange\u001b[0m\u001b[0;34m(\u001b[0m\u001b[0mlen\u001b[0m\u001b[0;34m(\u001b[0m\u001b[0mt\u001b[0m\u001b[0;34m)\u001b[0m\u001b[0;34m)\u001b[0m\u001b[0;34m:\u001b[0m\u001b[0;34m\u001b[0m\u001b[0;34m\u001b[0m\u001b[0m\n\u001b[0;32m---> 26\u001b[0;31m     \u001b[0mu_modes\u001b[0m\u001b[0;34m[\u001b[0m\u001b[0;34m:\u001b[0m\u001b[0;34m,\u001b[0m \u001b[0miter\u001b[0m\u001b[0;34m]\u001b[0m \u001b[0;34m=\u001b[0m \u001b[0my0\u001b[0m \u001b[0;34m*\u001b[0m \u001b[0mnp\u001b[0m\u001b[0;34m.\u001b[0m\u001b[0mexp\u001b[0m\u001b[0;34m(\u001b[0m\u001b[0mm\u001b[0m \u001b[0;34m*\u001b[0m \u001b[0mt\u001b[0m\u001b[0;34m[\u001b[0m\u001b[0miter\u001b[0m\u001b[0;34m]\u001b[0m\u001b[0;34m)\u001b[0m\u001b[0;34m\u001b[0m\u001b[0;34m\u001b[0m\u001b[0m\n\u001b[0m\u001b[1;32m     27\u001b[0m \u001b[0mu_dmd\u001b[0m \u001b[0;34m=\u001b[0m \u001b[0mPhi\u001b[0m\u001b[0;34m.\u001b[0m\u001b[0mdot\u001b[0m\u001b[0;34m(\u001b[0m\u001b[0mu_modes\u001b[0m\u001b[0;34m)\u001b[0m\u001b[0;34m\u001b[0m\u001b[0;34m\u001b[0m\u001b[0m\n\u001b[1;32m     28\u001b[0m \u001b[0;34m\u001b[0m\u001b[0m\n",
      "\u001b[0;31mNameError\u001b[0m: name 'm' is not defined"
     ]
    }
   ],
   "source": [
    "# Solve the eigenvalue problem for S tilde\n",
    "eV, D = np.linalg.eig(S)\n",
    "mu = np.diag(D) # extract eigenvalues\n",
    "# Calculate dt based on the frame rate\n",
    "# Time\n",
    "slices = 676\n",
    "t = np.linspace(0, 2 * np.pi, slices + 1)\n",
    "dt = t[1] - t[0]\n",
    "# Convert eigenvalues from mu to omega\n",
    "omega = np.log(mu) / dt\n",
    "Phi = np.dot(U, eV)\n",
    "# This is where things will slightly deviate from Week10_DMD. We need to\n",
    "# pick the eigenvector associated with the smallest (in modulus)\n",
    "# eigenvalue and reconstruct the solution u_dmd using only this eigenvalue\n",
    "# and eigenvector\n",
    "# Save the smallest (in modulus) eigenvalue as A2\n",
    "# Save u_dmd as A3\n",
    "index = np.argmin(np.abs(omega))\n",
    "mv = eV[index]\n",
    "Phi = U.dot(mv)\n",
    "\n",
    "y0 = np.linalg.pinv(Phi).dot(X1[:, 0]) # pseudoinverse to get initial conditions\n",
    "\n",
    "u_modes = np.zeros((len(y0), len(t)))\n",
    "for iter in range(len(t)):\n",
    "    u_modes[:, iter] = y0 * np.exp(m * t[iter])\n",
    "u_dmd = Phi.dot(u_modes)\n",
    "\n",
    "A2 = m # scalar\n",
    "A3 = u_dmd # 100368x677 double "
   ]
  },
  {
   "cell_type": "code",
   "execution_count": null,
   "id": "ea32658d",
   "metadata": {},
   "outputs": [],
   "source": [
    "#A1.shape"
   ]
  },
  {
   "cell_type": "code",
   "execution_count": null,
   "id": "74675aa3",
   "metadata": {},
   "outputs": [],
   "source": [
    "A1.shape"
   ]
  },
  {
   "cell_type": "code",
   "execution_count": null,
   "id": "6a3366cf",
   "metadata": {},
   "outputs": [],
   "source": [
    "A2"
   ]
  },
  {
   "cell_type": "code",
   "execution_count": null,
   "id": "34ec9de4",
   "metadata": {},
   "outputs": [],
   "source": [
    "A3.shape"
   ]
  },
  {
   "cell_type": "code",
   "execution_count": null,
   "id": "c9f58d04",
   "metadata": {},
   "outputs": [],
   "source": []
  }
 ],
 "metadata": {
  "kernelspec": {
   "display_name": "Python 3 (ipykernel)",
   "language": "python",
   "name": "python3"
  },
  "language_info": {
   "codemirror_mode": {
    "name": "ipython",
    "version": 3
   },
   "file_extension": ".py",
   "mimetype": "text/x-python",
   "name": "python",
   "nbconvert_exporter": "python",
   "pygments_lexer": "ipython3",
   "version": "3.9.7"
  }
 },
 "nbformat": 4,
 "nbformat_minor": 5
}
