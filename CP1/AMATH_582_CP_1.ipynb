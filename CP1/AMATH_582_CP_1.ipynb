{
 "cells": [
  {
   "cell_type": "markdown",
   "id": "2361d19d",
   "metadata": {},
   "source": [
    "## AMATH Computational Data Analysis\n",
    "### CP-1\n",
    "#### Manjaree Binjolkar"
   ]
  },
  {
   "cell_type": "code",
   "execution_count": 3,
   "id": "374ce7b2",
   "metadata": {},
   "outputs": [],
   "source": [
    "import numpy as np\n",
    "import scipy.fft\n",
    "import scipy.io as sio\n",
    "import copy\n",
    "import scipy\n",
    "from mpl_toolkits import mplot3d\n",
    "#%matplotlib inline\n",
    "import matplotlib.pyplot as plt"
   ]
  },
  {
   "cell_type": "code",
   "execution_count": 4,
   "id": "43488fdb",
   "metadata": {},
   "outputs": [],
   "source": [
    "data = sio.loadmat('Kraken.mat')\n",
    "#data"
   ]
  },
  {
   "cell_type": "code",
   "execution_count": 5,
   "id": "9cd6e522",
   "metadata": {},
   "outputs": [],
   "source": [
    "L=10\n",
    "n=64"
   ]
  },
  {
   "cell_type": "code",
   "execution_count": 6,
   "id": "51efe569",
   "metadata": {},
   "outputs": [],
   "source": [
    "x2 = np.linspace(-L, L, n+1)\n",
    "x = x2[0:n]\n",
    "y = x\n",
    "z = x"
   ]
  },
  {
   "cell_type": "code",
   "execution_count": 7,
   "id": "d3f53428-49bb-42de-a97a-d4457d5feb84",
   "metadata": {},
   "outputs": [],
   "source": [
    "#x"
   ]
  },
  {
   "cell_type": "code",
   "execution_count": 8,
   "id": "4024cfe3-07d6-4b0e-a63d-f00c6e069ae7",
   "metadata": {},
   "outputs": [],
   "source": [
    "#x.shape"
   ]
  },
  {
   "cell_type": "code",
   "execution_count": 9,
   "id": "0e8cc57f-38b9-4675-aecc-f5dc143621dd",
   "metadata": {},
   "outputs": [],
   "source": [
    "#y"
   ]
  },
  {
   "cell_type": "code",
   "execution_count": 10,
   "id": "cdb1e88a-89f5-40e2-9c27-5db551c8986c",
   "metadata": {},
   "outputs": [],
   "source": [
    "#z"
   ]
  },
  {
   "cell_type": "code",
   "execution_count": 11,
   "id": "abd1469b",
   "metadata": {},
   "outputs": [],
   "source": [
    "arr1 = np.arange(0,32)\n",
    "#print(arr1)\n",
    "arr2 = np.arange(-32,0)\n",
    "#print(arr2)"
   ]
  },
  {
   "cell_type": "code",
   "execution_count": 12,
   "id": "aa6654f0",
   "metadata": {},
   "outputs": [],
   "source": [
    "k = (2*np.pi/(2*L))*np.concatenate((arr1, arr2), axis=0)\n",
    "#print(k)\n",
    "#len(k)"
   ]
  },
  {
   "cell_type": "code",
   "execution_count": 13,
   "id": "9d9b62b3",
   "metadata": {},
   "outputs": [],
   "source": [
    "ks = scipy.fft.fftshift(k)\n",
    "#print(ks)"
   ]
  },
  {
   "cell_type": "code",
   "execution_count": 14,
   "id": "a670940b",
   "metadata": {},
   "outputs": [],
   "source": [
    "[X,Y,Z] = np.meshgrid(k,k,k)\n",
    "[Kx, Ky, Kz] = np.meshgrid(ks, ks, ks)\n",
    "Uk = np.zeros((n,n,n))"
   ]
  },
  {
   "cell_type": "code",
   "execution_count": 15,
   "id": "4dda4344",
   "metadata": {},
   "outputs": [
    {
     "data": {
      "text/plain": [
       "(262144, 49)"
      ]
     },
     "execution_count": 15,
     "metadata": {},
     "output_type": "execute_result"
    }
   ],
   "source": [
    "#len(data['Kraken'])\n",
    "data_K = data['Kraken']\n",
    "data_K.shape"
   ]
  },
  {
   "cell_type": "code",
   "execution_count": 16,
   "id": "ac59272b",
   "metadata": {},
   "outputs": [],
   "source": [
    "#sum all realizations in frequency space\n",
    "for j in range(49):\n",
    "    Un = data_K[:,j].reshape(n, n, n, order = 'F' )\n",
    "    M = np.amax(abs(Un))\n",
    "    Uk = Uk + scipy.fft.fftn(Un)"
   ]
  },
  {
   "cell_type": "code",
   "execution_count": 17,
   "id": "51b26dfa",
   "metadata": {},
   "outputs": [],
   "source": [
    "#after your for loop ends, save the sum as variable A1\n",
    "A1 = Uk\n",
    "#A1"
   ]
  },
  {
   "cell_type": "code",
   "execution_count": 18,
   "id": "414d9837",
   "metadata": {},
   "outputs": [],
   "source": [
    "#Average the sum over the 49 realizations (i.e., A1/49) and save as A2\n",
    "A2 = A1/49"
   ]
  },
  {
   "cell_type": "code",
   "execution_count": 19,
   "id": "7d89a7b7",
   "metadata": {},
   "outputs": [],
   "source": [
    "#find the peak frequencies in x, y, and z directions; i.e., find the\n",
    "#max in each direction of the normalized sum A2.\n",
    "#save these variables as A3, A4, and A5\n",
    "index = np.argmax(Uk)\n",
    "indexes = np.unravel_index(index, Uk.shape)\n",
    "#print(indexes)\n",
    "\n",
    "A4 = X[indexes].copy()\n",
    "A3 = Y[indexes].copy()\n",
    "A5 = Z[indexes].copy()"
   ]
  },
  {
   "cell_type": "code",
   "execution_count": 20,
   "id": "e25bb940",
   "metadata": {},
   "outputs": [],
   "source": [
    "#Simple gaussian filter to apply in frequency domain\n",
    "gaussian_filter = np.exp(-0.1*((X - X[indexes])**2 + (Y - Y[indexes])**2 +(Z - Z[indexes])**2))"
   ]
  },
  {
   "cell_type": "code",
   "execution_count": 21,
   "id": "7a396fbd",
   "metadata": {},
   "outputs": [],
   "source": [
    "A6 = gaussian_filter.copy()"
   ]
  },
  {
   "cell_type": "code",
   "execution_count": 22,
   "id": "2ae64b0e-1a02-4c5b-8a11-1a5db308bb5d",
   "metadata": {},
   "outputs": [],
   "source": [
    "#plt.plot(x)"
   ]
  },
  {
   "cell_type": "code",
   "execution_count": 23,
   "id": "c285b128-494f-48fb-9cd6-2b9a7dbe6a49",
   "metadata": {},
   "outputs": [],
   "source": [
    "x_pos = np.zeros(49)\n",
    "y_pos = np.zeros(49)\n",
    "z_pos = np.zeros(49)\n",
    "\n",
    "for t in range(49):\n",
    "    Un = np.reshape(data_K[:, t], (n, n, n), order = 'F')\n",
    "    fft_Un = scipy.fft.ifftn((scipy.fft.fftn(Un))*gaussian_filter)\n",
    "    abs_fft_Un = np.abs(fft_Un)\n",
    "    max_val = np.argmax(abs_fft_Un)\n",
    "    #print(max_val)\n",
    "    indexes1 = np.unravel_index(max_val, Un.shape)\n",
    "    #print(indexes1)\n",
    "    x_pos[t] = x[indexes1[0]]\n",
    "    y_pos[t] = y[indexes1[1]]\n",
    "    z_pos[t] = z[indexes1[2]]"
   ]
  },
  {
   "cell_type": "code",
   "execution_count": 24,
   "id": "4ebc5bc0-e33d-49e5-b8c9-981c536c18b0",
   "metadata": {},
   "outputs": [],
   "source": [
    "A7 = x_pos.reshape(1,49)\n",
    "A8 = y_pos.reshape(1,49)\n",
    "A9 = z_pos.reshape(1,49)"
   ]
  },
  {
   "cell_type": "code",
   "execution_count": 25,
   "id": "5c9b46cc-ffcd-4ad3-a170-41d6c7f0fa8b",
   "metadata": {},
   "outputs": [],
   "source": [
    "#print (A1)\n",
    "#print (A2)\n",
    "#print (A3)\n",
    "#print (A4)\n",
    "#print (A5)\n",
    "#print (A6)\n",
    "#print (A7)\n",
    "#print (A8)\n",
    "#print (A9)"
   ]
  },
  {
   "cell_type": "code",
   "execution_count": 26,
   "id": "ba876dd0",
   "metadata": {},
   "outputs": [],
   "source": [
    "#A2.shape"
   ]
  },
  {
   "cell_type": "code",
   "execution_count": 27,
   "id": "a5e15d64-029f-4a95-834f-2dfe2f55653d",
   "metadata": {},
   "outputs": [],
   "source": [
    "#%matplotlib inline\n",
    "#fig = plt.figure()\n",
    "#ax = plt.axes(projection='3d')\n",
    "#ax.plot3D(x_pos, y_pos, z_pos, 'b', label = 'Gaussian filter applied (threshold = 0.1)')\n",
    "#ax.plot3D(X[indexes], Y[indexes], Z[indexes], 'r', label='No filter')\n",
    "#ax.set_title(\"Figure 1. Kraken's path\")\n",
    "#ax.set_xlabel(\"x\")\n",
    "#ax.set_ylabel(\"y\")\n",
    "#ax.set_zlabel(\"z\")\n",
    "#ax.legend(loc ='upper right');\n",
    "#plt.savefig('CP1_01.png')"
   ]
  },
  {
   "cell_type": "code",
   "execution_count": 28,
   "id": "0f96de7c-dadc-4721-ad1e-e85ddfcab0b2",
   "metadata": {},
   "outputs": [],
   "source": [
    "#fig = plt.figure()\n",
    "#ax = plt.axes(projection='3d')\n",
    "#ax.plot(x_pos, y_pos, 'b', label = 'Gaussian filter applied (threshold = 0.1)')\n",
    "#ax.plot3D(X[indexes], Y[indexes], Z[indexes], 'r', label='No filter')\n",
    "#ax.set_title(\"Figure 2. Kraken's path in x-y plane\")\n",
    "#ax.set_xlabel(\"x\")\n",
    "#ax.set_ylabel(\"y\")\n",
    "#ax.set_zlabel(\"z\")\n",
    "#ax.legend(loc ='upper right');\n",
    "#plt.savefig('CP1_02.png')"
   ]
  },
  {
   "cell_type": "code",
   "execution_count": null,
   "id": "4b0bdb4c",
   "metadata": {},
   "outputs": [],
   "source": []
  },
  {
   "cell_type": "code",
   "execution_count": null,
   "id": "805dcdf0",
   "metadata": {},
   "outputs": [],
   "source": []
  }
 ],
 "metadata": {
  "kernelspec": {
   "display_name": "Python 3 (ipykernel)",
   "language": "python",
   "name": "python3"
  },
  "language_info": {
   "codemirror_mode": {
    "name": "ipython",
    "version": 3
   },
   "file_extension": ".py",
   "mimetype": "text/x-python",
   "name": "python",
   "nbconvert_exporter": "python",
   "pygments_lexer": "ipython3",
   "version": "3.9.7"
  }
 },
 "nbformat": 4,
 "nbformat_minor": 5
}
